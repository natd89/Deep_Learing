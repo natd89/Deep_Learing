{
 "cells": [
  {
   "cell_type": "code",
   "execution_count": 7,
   "metadata": {},
   "outputs": [
    {
     "name": "stdout",
     "output_type": "stream",
     "text": [
      "\n",
      "\n",
      "For task 3, I guess that beta is [-2.32075047  4.50731945  9.39173985] \n",
      "\n"
     ]
    }
   ],
   "source": [
    "import tensorflow as tf\n",
    "import numpy as np\n",
    "\n",
    "\n",
    "# tf stuff below\n",
    "with tf.name_scope(\"name\") as scope:\n",
    "\n",
    "    beta = tf.Variable([0.0, 0.0, 0.0])\n",
    "\n",
    "    learning_rate = tf.Variable(0.005)\n",
    "\n",
    "    x_hat = tf.placeholder(tf.float32, None, name='x_hat')\n",
    "    noise_hat = tf.placeholder(tf.float32, None, name='noise_hat')\n",
    "    y_hat = tf.reduce_sum(tf.multiply([-2.3, 4.5, 9.4], x_hat)) + noise_hat\n",
    "\n",
    "    net = tf.reduce_sum(tf.multiply(x_hat, beta))\n",
    "\n",
    "    delta_w = tf.multiply(tf.multiply(learning_rate, tf.subtract(y_hat, net, name='delta')), x_hat)\n",
    "\n",
    "    learn = tf.assign(beta, tf.add(beta, delta_w))\n",
    "\n",
    "# main function here\n",
    "\n",
    "sess = tf.Session()\n",
    "init = tf.global_variables_initializer()\n",
    "sess.run(init)\n",
    "\n",
    "for i in range(1000):\n",
    "\n",
    "    x = np.random.uniform(-10, 10, size=(2,))\n",
    "    x = np.append(x, [1])\n",
    "    noise = np.random.uniform(-1, 1)\n",
    "\n",
    "    sess.run(learn, {x_hat: x, noise_hat: noise})\n",
    "\n",
    "print '\\n\\nFor task 3, I guess that beta is {}'.format(sess.run(beta)),'\\n'\n",
    "\n",
    "writer = tf.summary.FileWriter(\"path_to_folder\", sess.graph)\n",
    "writer.close()"
   ]
  },
  {
   "cell_type": "code",
   "execution_count": 8,
   "metadata": {},
   "outputs": [
    {
     "name": "stdout",
     "output_type": "stream",
     "text": [
      "\n",
      "\n",
      "For task 4, I guess that beta is [-7.79049492  2.69571829  0.83738828] \n",
      "\n"
     ]
    }
   ],
   "source": [
    "import tensorflow as tf\n",
    "import numpy as np\n",
    "import pandas\n",
    "\n",
    "\n",
    "# tf stuff below\n",
    "with tf.name_scope(\"name\") as scope:\n",
    "\n",
    "    beta = tf.Variable([0.0, 0.0, 0.0])\n",
    "\n",
    "    learning_rate = tf.Variable(0.005)\n",
    "\n",
    "    x_hat = tf.placeholder(tf.float32, None, name='x_hat')\n",
    "    y_hat = tf.placeholder(tf.float32, None, name='y_hat')\n",
    "\n",
    "    net = tf.reduce_sum(tf.multiply(x_hat, beta))\n",
    "\n",
    "    delta_w = tf.multiply(tf.multiply(learning_rate, tf.subtract(y_hat, net, name='delta')), x_hat)\n",
    "\n",
    "    learn = tf.assign(beta, tf.add(beta, delta_w))\n",
    "\n",
    "# main function here\n",
    "\n",
    "sess = tf.Session()\n",
    "init = tf.global_variables_initializer()\n",
    "sess.run(init)\n",
    "\n",
    "data = pandas.read_csv('./foo.csv', ',').as_matrix()\n",
    "x = np.zeros((len(data),3))\n",
    "x[:, 0:2] = data[:, 0:2][:, 0:2]\n",
    "y = data[:, 2]\n",
    "\n",
    "for i in range(len(y[:])):\n",
    "    x[i, 2] = 1.0\n",
    "    sess.run(learn, {x_hat: x[i, :], y_hat: y[i]})\n",
    "\n",
    "print '\\n\\nFor task 4, I guess that beta is {}'.format(sess.run(beta)),'\\n'\n",
    "writer = tf.summary.FileWriter(\"path_to_folder\", sess.graph)\n",
    "writer.close()"
   ]
  },
  {
   "cell_type": "code",
   "execution_count": null,
   "metadata": {
    "collapsed": true
   },
   "outputs": [],
   "source": []
  }
 ],
 "metadata": {
  "kernelspec": {
   "display_name": "Python 2",
   "language": "python",
   "name": "python2"
  },
  "language_info": {
   "codemirror_mode": {
    "name": "ipython",
    "version": 2
   },
   "file_extension": ".py",
   "mimetype": "text/x-python",
   "name": "python",
   "nbconvert_exporter": "python",
   "pygments_lexer": "ipython2",
   "version": "2.7.12"
  }
 },
 "nbformat": 4,
 "nbformat_minor": 2
}
